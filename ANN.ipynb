{
 "cells": [
  {
   "cell_type": "code",
   "execution_count": 1,
   "metadata": {},
   "outputs": [],
   "source": [
    "import numpy as np \n",
    "import pandas as pd \n",
    "import matplotlib.pyplot as plt \n",
    "import seaborn as sns \n",
    "%matplotlib inline"
   ]
  },
  {
   "cell_type": "code",
   "execution_count": 2,
   "metadata": {},
   "outputs": [],
   "source": [
    "data = 'Depression.csv'\n",
    "\n",
    "df = pd.read_csv(data)"
   ]
  },
  {
   "cell_type": "code",
   "execution_count": 3,
   "metadata": {},
   "outputs": [
    {
     "data": {
      "text/plain": [
       "(908, 21)"
      ]
     },
     "execution_count": 3,
     "metadata": {},
     "output_type": "execute_result"
    }
   ],
   "source": [
    "df.shape"
   ]
  },
  {
   "cell_type": "code",
   "execution_count": 4,
   "metadata": {},
   "outputs": [
    {
     "data": {
      "text/html": [
       "<div>\n",
       "<style scoped>\n",
       "    .dataframe tbody tr th:only-of-type {\n",
       "        vertical-align: middle;\n",
       "    }\n",
       "\n",
       "    .dataframe tbody tr th {\n",
       "        vertical-align: top;\n",
       "    }\n",
       "\n",
       "    .dataframe thead th {\n",
       "        text-align: right;\n",
       "    }\n",
       "</style>\n",
       "<table border=\"1\" class=\"dataframe\">\n",
       "  <thead>\n",
       "    <tr style=\"text-align: right;\">\n",
       "      <th></th>\n",
       "      <th>Timestamp</th>\n",
       "      <th>Year</th>\n",
       "      <th>Feelings</th>\n",
       "      <th>Scale</th>\n",
       "      <th>Gender</th>\n",
       "      <th>Age</th>\n",
       "      <th>Location</th>\n",
       "      <th>Relationship</th>\n",
       "      <th>Finance</th>\n",
       "      <th>Adjustment</th>\n",
       "      <th>...</th>\n",
       "      <th>Study_pressure</th>\n",
       "      <th>Result</th>\n",
       "      <th>Living</th>\n",
       "      <th>Support</th>\n",
       "      <th>Social_media</th>\n",
       "      <th>Inferiority</th>\n",
       "      <th>Meal</th>\n",
       "      <th>Sick</th>\n",
       "      <th>Recreation</th>\n",
       "      <th>Sleep</th>\n",
       "    </tr>\n",
       "  </thead>\n",
       "  <tbody>\n",
       "    <tr>\n",
       "      <th>0</th>\n",
       "      <td>11/29/2020 10:08:31</td>\n",
       "      <td>1st year</td>\n",
       "      <td>Good</td>\n",
       "      <td>70</td>\n",
       "      <td>Male</td>\n",
       "      <td>18</td>\n",
       "      <td>Hall-Mess</td>\n",
       "      <td>Single</td>\n",
       "      <td>Yes</td>\n",
       "      <td>3</td>\n",
       "      <td>...</td>\n",
       "      <td>No</td>\n",
       "      <td>No</td>\n",
       "      <td>No</td>\n",
       "      <td>Family</td>\n",
       "      <td>Yes</td>\n",
       "      <td>No</td>\n",
       "      <td>Yes</td>\n",
       "      <td>No</td>\n",
       "      <td>Yes</td>\n",
       "      <td>8</td>\n",
       "    </tr>\n",
       "    <tr>\n",
       "      <th>1</th>\n",
       "      <td>11/29/2020 10:11:20</td>\n",
       "      <td>1st year</td>\n",
       "      <td>Normal</td>\n",
       "      <td>60</td>\n",
       "      <td>Male</td>\n",
       "      <td>18</td>\n",
       "      <td>Hall-Mess</td>\n",
       "      <td>Single</td>\n",
       "      <td>Yes</td>\n",
       "      <td>3</td>\n",
       "      <td>...</td>\n",
       "      <td>Yes</td>\n",
       "      <td>No</td>\n",
       "      <td>No</td>\n",
       "      <td>Family</td>\n",
       "      <td>No</td>\n",
       "      <td>No</td>\n",
       "      <td>Yes</td>\n",
       "      <td>No</td>\n",
       "      <td>Yes</td>\n",
       "      <td>10</td>\n",
       "    </tr>\n",
       "    <tr>\n",
       "      <th>2</th>\n",
       "      <td>11/29/2020 11:10:42</td>\n",
       "      <td>2nd year</td>\n",
       "      <td>Good</td>\n",
       "      <td>70</td>\n",
       "      <td>Male</td>\n",
       "      <td>19</td>\n",
       "      <td>Hall-Mess</td>\n",
       "      <td>Single</td>\n",
       "      <td>Yes</td>\n",
       "      <td>4</td>\n",
       "      <td>...</td>\n",
       "      <td>Yes</td>\n",
       "      <td>Yes</td>\n",
       "      <td>Yes</td>\n",
       "      <td>Family</td>\n",
       "      <td>Yes</td>\n",
       "      <td>No</td>\n",
       "      <td>No</td>\n",
       "      <td>No</td>\n",
       "      <td>Yes</td>\n",
       "      <td>8</td>\n",
       "    </tr>\n",
       "    <tr>\n",
       "      <th>3</th>\n",
       "      <td>11/29/2020 11:21:29</td>\n",
       "      <td>2nd year</td>\n",
       "      <td>Normal</td>\n",
       "      <td>50</td>\n",
       "      <td>Male</td>\n",
       "      <td>19</td>\n",
       "      <td>Department</td>\n",
       "      <td>Single</td>\n",
       "      <td>Yes</td>\n",
       "      <td>2</td>\n",
       "      <td>...</td>\n",
       "      <td>Yes</td>\n",
       "      <td>No</td>\n",
       "      <td>Yes</td>\n",
       "      <td>Family</td>\n",
       "      <td>No</td>\n",
       "      <td>No</td>\n",
       "      <td>No</td>\n",
       "      <td>Yes</td>\n",
       "      <td>No</td>\n",
       "      <td>6</td>\n",
       "    </tr>\n",
       "    <tr>\n",
       "      <th>4</th>\n",
       "      <td>11/29/2020 11:22:51</td>\n",
       "      <td>1st year</td>\n",
       "      <td>Good</td>\n",
       "      <td>90</td>\n",
       "      <td>Male</td>\n",
       "      <td>18</td>\n",
       "      <td>Home</td>\n",
       "      <td>Single</td>\n",
       "      <td>Yes</td>\n",
       "      <td>2</td>\n",
       "      <td>...</td>\n",
       "      <td>No</td>\n",
       "      <td>Yes</td>\n",
       "      <td>Yes</td>\n",
       "      <td>Family</td>\n",
       "      <td>Yes</td>\n",
       "      <td>No</td>\n",
       "      <td>Yes</td>\n",
       "      <td>No</td>\n",
       "      <td>Yes</td>\n",
       "      <td>10</td>\n",
       "    </tr>\n",
       "  </tbody>\n",
       "</table>\n",
       "<p>5 rows × 21 columns</p>\n",
       "</div>"
      ],
      "text/plain": [
       "             Timestamp      Year Feelings  Scale Gender  Age    Location  \\\n",
       "0  11/29/2020 10:08:31  1st year     Good     70   Male   18   Hall-Mess   \n",
       "1  11/29/2020 10:11:20  1st year   Normal     60   Male   18   Hall-Mess   \n",
       "2  11/29/2020 11:10:42  2nd year     Good     70   Male   19   Hall-Mess   \n",
       "3  11/29/2020 11:21:29  2nd year   Normal     50   Male   19  Department   \n",
       "4  11/29/2020 11:22:51  1st year     Good     90   Male   18        Home   \n",
       "\n",
       "  Relationship Finance  Adjustment  ... Study_pressure Result Living Support  \\\n",
       "0       Single     Yes           3  ...             No     No     No  Family   \n",
       "1       Single     Yes           3  ...            Yes     No     No  Family   \n",
       "2       Single     Yes           4  ...            Yes    Yes    Yes  Family   \n",
       "3       Single     Yes           2  ...            Yes     No    Yes  Family   \n",
       "4       Single     Yes           2  ...             No    Yes    Yes  Family   \n",
       "\n",
       "  Social_media Inferiority Meal Sick Recreation Sleep  \n",
       "0          Yes          No  Yes   No        Yes     8  \n",
       "1           No          No  Yes   No        Yes    10  \n",
       "2          Yes          No   No   No        Yes     8  \n",
       "3           No          No   No  Yes         No     6  \n",
       "4          Yes          No  Yes   No        Yes    10  \n",
       "\n",
       "[5 rows x 21 columns]"
      ]
     },
     "execution_count": 4,
     "metadata": {},
     "output_type": "execute_result"
    }
   ],
   "source": [
    "df.head()"
   ]
  },
  {
   "cell_type": "code",
   "execution_count": 5,
   "metadata": {
    "scrolled": true
   },
   "outputs": [
    {
     "name": "stdout",
     "output_type": "stream",
     "text": [
      "<class 'pandas.core.frame.DataFrame'>\n",
      "RangeIndex: 908 entries, 0 to 907\n",
      "Data columns (total 21 columns):\n",
      "Timestamp         908 non-null object\n",
      "Year              908 non-null object\n",
      "Feelings          908 non-null object\n",
      "Scale             908 non-null int64\n",
      "Gender            908 non-null object\n",
      "Age               908 non-null int64\n",
      "Location          908 non-null object\n",
      "Relationship      908 non-null object\n",
      "Finance           908 non-null object\n",
      "Adjustment        908 non-null int64\n",
      "Understanding     908 non-null object\n",
      "Study_pressure    908 non-null object\n",
      "Result            908 non-null object\n",
      "Living            908 non-null object\n",
      "Support           908 non-null object\n",
      "Social_media      908 non-null object\n",
      "Inferiority       908 non-null object\n",
      "Meal              908 non-null object\n",
      "Sick              908 non-null object\n",
      "Recreation        908 non-null object\n",
      "Sleep             908 non-null int64\n",
      "dtypes: int64(4), object(17)\n",
      "memory usage: 149.0+ KB\n"
     ]
    }
   ],
   "source": [
    "df.info()"
   ]
  },
  {
   "cell_type": "code",
   "execution_count": 6,
   "metadata": {},
   "outputs": [],
   "source": [
    "df.dropna(inplace = True)"
   ]
  },
  {
   "cell_type": "code",
   "execution_count": 8,
   "metadata": {},
   "outputs": [
    {
     "data": {
      "text/plain": [
       "Timestamp         0\n",
       "Year              0\n",
       "Feelings          0\n",
       "Scale             0\n",
       "Gender            0\n",
       "Age               0\n",
       "Location          0\n",
       "Relationship      0\n",
       "Finance           0\n",
       "Adjustment        0\n",
       "Understanding     0\n",
       "Study_pressure    0\n",
       "Result            0\n",
       "Living            0\n",
       "Support           0\n",
       "Social_media      0\n",
       "Inferiority       0\n",
       "Meal              0\n",
       "Sick              0\n",
       "Recreation        0\n",
       "Sleep             0\n",
       "dtype: int64"
      ]
     },
     "execution_count": 8,
     "metadata": {},
     "output_type": "execute_result"
    }
   ],
   "source": [
    "df.isnull().sum()"
   ]
  },
  {
   "cell_type": "code",
   "execution_count": 9,
   "metadata": {},
   "outputs": [
    {
     "data": {
      "text/html": [
       "<div>\n",
       "<style scoped>\n",
       "    .dataframe tbody tr th:only-of-type {\n",
       "        vertical-align: middle;\n",
       "    }\n",
       "\n",
       "    .dataframe tbody tr th {\n",
       "        vertical-align: top;\n",
       "    }\n",
       "\n",
       "    .dataframe thead th {\n",
       "        text-align: right;\n",
       "    }\n",
       "</style>\n",
       "<table border=\"1\" class=\"dataframe\">\n",
       "  <thead>\n",
       "    <tr style=\"text-align: right;\">\n",
       "      <th></th>\n",
       "      <th>Scale</th>\n",
       "      <th>Age</th>\n",
       "      <th>Adjustment</th>\n",
       "      <th>Sleep</th>\n",
       "    </tr>\n",
       "  </thead>\n",
       "  <tbody>\n",
       "    <tr>\n",
       "      <th>count</th>\n",
       "      <td>908.000000</td>\n",
       "      <td>908.000000</td>\n",
       "      <td>908.000000</td>\n",
       "      <td>908.000000</td>\n",
       "    </tr>\n",
       "    <tr>\n",
       "      <th>mean</th>\n",
       "      <td>48.948238</td>\n",
       "      <td>20.457048</td>\n",
       "      <td>2.976872</td>\n",
       "      <td>4.733480</td>\n",
       "    </tr>\n",
       "    <tr>\n",
       "      <th>std</th>\n",
       "      <td>28.741914</td>\n",
       "      <td>1.213360</td>\n",
       "      <td>1.415193</td>\n",
       "      <td>2.243084</td>\n",
       "    </tr>\n",
       "    <tr>\n",
       "      <th>min</th>\n",
       "      <td>5.000000</td>\n",
       "      <td>18.000000</td>\n",
       "      <td>1.000000</td>\n",
       "      <td>1.000000</td>\n",
       "    </tr>\n",
       "    <tr>\n",
       "      <th>25%</th>\n",
       "      <td>25.000000</td>\n",
       "      <td>19.000000</td>\n",
       "      <td>2.000000</td>\n",
       "      <td>3.000000</td>\n",
       "    </tr>\n",
       "    <tr>\n",
       "      <th>50%</th>\n",
       "      <td>50.000000</td>\n",
       "      <td>20.000000</td>\n",
       "      <td>3.000000</td>\n",
       "      <td>5.000000</td>\n",
       "    </tr>\n",
       "    <tr>\n",
       "      <th>75%</th>\n",
       "      <td>75.000000</td>\n",
       "      <td>21.000000</td>\n",
       "      <td>4.000000</td>\n",
       "      <td>6.000000</td>\n",
       "    </tr>\n",
       "    <tr>\n",
       "      <th>max</th>\n",
       "      <td>100.000000</td>\n",
       "      <td>23.000000</td>\n",
       "      <td>5.000000</td>\n",
       "      <td>10.000000</td>\n",
       "    </tr>\n",
       "  </tbody>\n",
       "</table>\n",
       "</div>"
      ],
      "text/plain": [
       "            Scale         Age  Adjustment       Sleep\n",
       "count  908.000000  908.000000  908.000000  908.000000\n",
       "mean    48.948238   20.457048    2.976872    4.733480\n",
       "std     28.741914    1.213360    1.415193    2.243084\n",
       "min      5.000000   18.000000    1.000000    1.000000\n",
       "25%     25.000000   19.000000    2.000000    3.000000\n",
       "50%     50.000000   20.000000    3.000000    5.000000\n",
       "75%     75.000000   21.000000    4.000000    6.000000\n",
       "max    100.000000   23.000000    5.000000   10.000000"
      ]
     },
     "execution_count": 9,
     "metadata": {},
     "output_type": "execute_result"
    }
   ],
   "source": [
    "df.describe()"
   ]
  },
  {
   "cell_type": "code",
   "execution_count": 10,
   "metadata": {},
   "outputs": [
    {
     "data": {
      "text/html": [
       "<div>\n",
       "<style scoped>\n",
       "    .dataframe tbody tr th:only-of-type {\n",
       "        vertical-align: middle;\n",
       "    }\n",
       "\n",
       "    .dataframe tbody tr th {\n",
       "        vertical-align: top;\n",
       "    }\n",
       "\n",
       "    .dataframe thead th {\n",
       "        text-align: right;\n",
       "    }\n",
       "</style>\n",
       "<table border=\"1\" class=\"dataframe\">\n",
       "  <thead>\n",
       "    <tr style=\"text-align: right;\">\n",
       "      <th></th>\n",
       "      <th>Feelings</th>\n",
       "      <th>Count</th>\n",
       "      <th>Relationship</th>\n",
       "    </tr>\n",
       "  </thead>\n",
       "  <tbody>\n",
       "    <tr>\n",
       "      <th>0</th>\n",
       "      <td>Bad</td>\n",
       "      <td>205</td>\n",
       "      <td>1</td>\n",
       "    </tr>\n",
       "    <tr>\n",
       "      <th>1</th>\n",
       "      <td>Good</td>\n",
       "      <td>137</td>\n",
       "      <td>4</td>\n",
       "    </tr>\n",
       "    <tr>\n",
       "      <th>2</th>\n",
       "      <td>Normal</td>\n",
       "      <td>200</td>\n",
       "      <td>4</td>\n",
       "    </tr>\n",
       "    <tr>\n",
       "      <th>3</th>\n",
       "      <td>Very bad</td>\n",
       "      <td>169</td>\n",
       "      <td>2</td>\n",
       "    </tr>\n",
       "    <tr>\n",
       "      <th>4</th>\n",
       "      <td>Very good</td>\n",
       "      <td>197</td>\n",
       "      <td>5</td>\n",
       "    </tr>\n",
       "  </tbody>\n",
       "</table>\n",
       "</div>"
      ],
      "text/plain": [
       "    Feelings  Count  Relationship\n",
       "0        Bad    205             1\n",
       "1       Good    137             4\n",
       "2     Normal    200             4\n",
       "3   Very bad    169             2\n",
       "4  Very good    197             5"
      ]
     },
     "execution_count": 10,
     "metadata": {},
     "output_type": "execute_result"
    },
    {
     "data": {
      "image/png": "[encoded data removed]",
      "text/plain": [
       "<Figure size 864x360 with 1 Axes>"
      ]
     },
     "metadata": {
      "needs_background": "light"
     },
     "output_type": "display_data"
    }
   ],
   "source": [
    "# Creating frequency table\n",
    "freq_table = df.groupby(['Feelings']).size().reset_index(name='Count')\n",
    "freq_table['Relationship'] = freq_table['Feelings'].apply(lambda x : df['Feelings'][(df['Feelings'] == x) & (df['Relationship'] == \"Single\")].count())\n",
    "freq_table['Relationship'] = freq_table['Feelings'].apply(lambda x : df['Feelings'][(df['Feelings'] == x) & (df['Relationship'] == \"In a relationship\")].count())\n",
    "freq_table['Relationship'] = freq_table['Feelings'].apply(lambda x : df['Feelings'][(df['Feelings'] == x) & (df['Relationship'] == \"Broken up\")].count())\n",
    "freq_table['Relationship'] = freq_table['Feelings'].apply(lambda x : df['Feelings'][(df['Feelings'] == x) & (df['Relationship'] == \"It's complicated\")].count())\n",
    "freq_table['Relationship'] = freq_table['Feelings'].apply(lambda x : df['Feelings'][(df['Feelings'] == x) & (df['Relationship'] == \"Married\")].count())\n",
    "\n",
    "plt.figure(figsize=(12, 5))\n",
    "sns.countplot(x='Feelings', data=df, hue='Relationship')\n",
    "freq_table"
   ]
  },
  {
   "cell_type": "code",
   "execution_count": 11,
   "metadata": {},
   "outputs": [
    {
     "data": {
      "text/plain": [
       "<matplotlib.axes._subplots.AxesSubplot at 0x241c459dd30>"
      ]
     },
     "execution_count": 11,
     "metadata": {},
     "output_type": "execute_result"
    },
    {
     "data": {
      "image/png": "[encoded data removed]",
      "text/plain": [
       "<Figure size 432x288 with 1 Axes>"
      ]
     },
     "metadata": {
      "needs_background": "light"
     },
     "output_type": "display_data"
    }
   ],
   "source": [
    "sns.boxplot(x=\"Scale\",y=\"Feelings\",data=df)"
   ]
  },
  {
   "cell_type": "code",
   "execution_count": 12,
   "metadata": {},
   "outputs": [
    {
     "data": {
      "text/plain": [
       "<matplotlib.axes._subplots.AxesSubplot at 0x241c499a710>"
      ]
     },
     "execution_count": 12,
     "metadata": {},
     "output_type": "execute_result"
    },
    {
     "data": {
      "image/png": "[encoded data removed]",
      "text/plain": [
       "<Figure size 432x288 with 1 Axes>"
      ]
     },
     "metadata": {
      "needs_background": "light"
     },
     "output_type": "display_data"
    }
   ],
   "source": [
    "sns.boxplot(x=\"Sleep\",y=\"Feelings\",data=df)"
   ]
  },
  {
   "cell_type": "code",
   "execution_count": 13,
   "metadata": {},
   "outputs": [
    {
     "data": {
      "text/plain": [
       "<matplotlib.axes._subplots.AxesSubplot at 0x241c4a30d30>"
      ]
     },
     "execution_count": 13,
     "metadata": {},
     "output_type": "execute_result"
    },
    {
     "data": {
      "image/png": "[encoded data removed]",
      "text/plain": [
       "<Figure size 432x288 with 1 Axes>"
      ]
     },
     "metadata": {
      "needs_background": "light"
     },
     "output_type": "display_data"
    }
   ],
   "source": [
    "sns.boxplot(x=\"Adjustment\",y=\"Feelings\",data=df)"
   ]
  },
  {
   "cell_type": "code",
   "execution_count": 14,
   "metadata": {},
   "outputs": [
    {
     "data": {
      "text/plain": [
       "<matplotlib.axes._subplots.AxesSubplot at 0x241c4b19128>"
      ]
     },
     "execution_count": 14,
     "metadata": {},
     "output_type": "execute_result"
    },
    {
     "data": {
      "image/png": "[encoded data removed]",
      "text/plain": [
       "<Figure size 432x288 with 1 Axes>"
      ]
     },
     "metadata": {
      "needs_background": "light"
     },
     "output_type": "display_data"
    }
   ],
   "source": [
    "sns.scatterplot(x=df['Scale'], y=df['Feelings'])"
   ]
  },
  {
   "cell_type": "code",
   "execution_count": 15,
   "metadata": {},
   "outputs": [
    {
     "data": {
      "text/plain": [
       "<matplotlib.axes._subplots.AxesSubplot at 0x241c459d320>"
      ]
     },
     "execution_count": 15,
     "metadata": {},
     "output_type": "execute_result"
    },
    {
     "data": {
      "image/png": "[encoded data removed]",
      "text/plain": [
       "<Figure size 432x288 with 1 Axes>"
      ]
     },
     "metadata": {
      "needs_background": "light"
     },
     "output_type": "display_data"
    }
   ],
   "source": [
    "sns.scatterplot(x=df['Sleep'], y=df['Feelings'])"
   ]
  },
  {
   "cell_type": "code",
   "execution_count": 16,
   "metadata": {},
   "outputs": [
    {
     "data": {
      "text/plain": [
       "<matplotlib.axes._subplots.AxesSubplot at 0x241c4bbfd30>"
      ]
     },
     "execution_count": 16,
     "metadata": {},
     "output_type": "execute_result"
    },
    {
     "data": {
      "image/png": "[encoded data removed]",
      "text/plain": [
       "<Figure size 432x288 with 1 Axes>"
      ]
     },
     "metadata": {
      "needs_background": "light"
     },
     "output_type": "display_data"
    }
   ],
   "source": [
    "sns.scatterplot(x=df['Adjustment'], y=df['Feelings'])"
   ]
  },
  {
   "cell_type": "code",
   "execution_count": 17,
   "metadata": {},
   "outputs": [
    {
     "data": {
      "text/plain": [
       "<matplotlib.axes._subplots.AxesSubplot at 0x241c485c2e8>"
      ]
     },
     "execution_count": 17,
     "metadata": {},
     "output_type": "execute_result"
    },
    {
     "data": {
      "image/png": "[encoded data removed]",
      "text/plain": [
       "<Figure size 432x288 with 1 Axes>"
      ]
     },
     "metadata": {
      "needs_background": "light"
     },
     "output_type": "display_data"
    }
   ],
   "source": [
    "sns.scatterplot(x=df['Adjustment'], y=df['Scale'], hue=df['Feelings'])"
   ]
  },
  {
   "cell_type": "code",
   "execution_count": 18,
   "metadata": {},
   "outputs": [
    {
     "data": {
      "text/plain": [
       "<matplotlib.axes._subplots.AxesSubplot at 0x241c4bea828>"
      ]
     },
     "execution_count": 18,
     "metadata": {},
     "output_type": "execute_result"
    },
    {
     "data": {
      "image/png": "[encoded data removed]",
      "text/plain": [
       "<Figure size 432x288 with 1 Axes>"
      ]
     },
     "metadata": {
      "needs_background": "light"
     },
     "output_type": "display_data"
    }
   ],
   "source": [
    "sns.swarmplot(x=df['Feelings'],y=df['Scale'])"
   ]
  },
  {
   "cell_type": "code",
   "execution_count": 19,
   "metadata": {},
   "outputs": [],
   "source": [
    "df.drop(['Meal','Timestamp','Year','Age','Gender','Location','Social_media','Support','Recreation'],axis=1,inplace=True)"
   ]
  },
  {
   "cell_type": "code",
   "execution_count": 20,
   "metadata": {},
   "outputs": [
    {
     "data": {
      "text/html": [
       "<div>\n",
       "<style scoped>\n",
       "    .dataframe tbody tr th:only-of-type {\n",
       "        vertical-align: middle;\n",
       "    }\n",
       "\n",
       "    .dataframe tbody tr th {\n",
       "        vertical-align: top;\n",
       "    }\n",
       "\n",
       "    .dataframe thead th {\n",
       "        text-align: right;\n",
       "    }\n",
       "</style>\n",
       "<table border=\"1\" class=\"dataframe\">\n",
       "  <thead>\n",
       "    <tr style=\"text-align: right;\">\n",
       "      <th></th>\n",
       "      <th>Feelings</th>\n",
       "      <th>Scale</th>\n",
       "      <th>Relationship</th>\n",
       "      <th>Finance</th>\n",
       "      <th>Adjustment</th>\n",
       "      <th>Understanding</th>\n",
       "      <th>Study_pressure</th>\n",
       "      <th>Result</th>\n",
       "      <th>Living</th>\n",
       "      <th>Inferiority</th>\n",
       "      <th>Sick</th>\n",
       "      <th>Sleep</th>\n",
       "    </tr>\n",
       "  </thead>\n",
       "  <tbody>\n",
       "    <tr>\n",
       "      <th>0</th>\n",
       "      <td>Good</td>\n",
       "      <td>70</td>\n",
       "      <td>Single</td>\n",
       "      <td>Yes</td>\n",
       "      <td>3</td>\n",
       "      <td>Good</td>\n",
       "      <td>No</td>\n",
       "      <td>No</td>\n",
       "      <td>No</td>\n",
       "      <td>No</td>\n",
       "      <td>No</td>\n",
       "      <td>8</td>\n",
       "    </tr>\n",
       "    <tr>\n",
       "      <th>1</th>\n",
       "      <td>Normal</td>\n",
       "      <td>60</td>\n",
       "      <td>Single</td>\n",
       "      <td>Yes</td>\n",
       "      <td>3</td>\n",
       "      <td>Good</td>\n",
       "      <td>Yes</td>\n",
       "      <td>No</td>\n",
       "      <td>No</td>\n",
       "      <td>No</td>\n",
       "      <td>No</td>\n",
       "      <td>10</td>\n",
       "    </tr>\n",
       "    <tr>\n",
       "      <th>2</th>\n",
       "      <td>Good</td>\n",
       "      <td>70</td>\n",
       "      <td>Single</td>\n",
       "      <td>Yes</td>\n",
       "      <td>4</td>\n",
       "      <td>Good</td>\n",
       "      <td>Yes</td>\n",
       "      <td>Yes</td>\n",
       "      <td>Yes</td>\n",
       "      <td>No</td>\n",
       "      <td>No</td>\n",
       "      <td>8</td>\n",
       "    </tr>\n",
       "    <tr>\n",
       "      <th>3</th>\n",
       "      <td>Normal</td>\n",
       "      <td>50</td>\n",
       "      <td>Single</td>\n",
       "      <td>Yes</td>\n",
       "      <td>2</td>\n",
       "      <td>Good</td>\n",
       "      <td>Yes</td>\n",
       "      <td>No</td>\n",
       "      <td>Yes</td>\n",
       "      <td>No</td>\n",
       "      <td>Yes</td>\n",
       "      <td>6</td>\n",
       "    </tr>\n",
       "    <tr>\n",
       "      <th>4</th>\n",
       "      <td>Good</td>\n",
       "      <td>90</td>\n",
       "      <td>Single</td>\n",
       "      <td>Yes</td>\n",
       "      <td>2</td>\n",
       "      <td>Good</td>\n",
       "      <td>No</td>\n",
       "      <td>Yes</td>\n",
       "      <td>Yes</td>\n",
       "      <td>No</td>\n",
       "      <td>No</td>\n",
       "      <td>10</td>\n",
       "    </tr>\n",
       "  </tbody>\n",
       "</table>\n",
       "</div>"
      ],
      "text/plain": [
       "  Feelings  Scale Relationship Finance  Adjustment Understanding  \\\n",
       "0     Good     70       Single     Yes           3          Good   \n",
       "1   Normal     60       Single     Yes           3          Good   \n",
       "2     Good     70       Single     Yes           4          Good   \n",
       "3   Normal     50       Single     Yes           2          Good   \n",
       "4     Good     90       Single     Yes           2          Good   \n",
       "\n",
       "  Study_pressure Result Living Inferiority Sick  Sleep  \n",
       "0             No     No     No          No   No      8  \n",
       "1            Yes     No     No          No   No     10  \n",
       "2            Yes    Yes    Yes          No   No      8  \n",
       "3            Yes     No    Yes          No  Yes      6  \n",
       "4             No    Yes    Yes          No   No     10  "
      ]
     },
     "execution_count": 20,
     "metadata": {},
     "output_type": "execute_result"
    }
   ],
   "source": [
    "df.head()"
   ]
  },
  {
   "cell_type": "code",
   "execution_count": 21,
   "metadata": {},
   "outputs": [],
   "source": [
    "import category_encoders as ce"
   ]
  },
  {
   "cell_type": "code",
   "execution_count": 22,
   "metadata": {},
   "outputs": [],
   "source": [
    "encoder = ce.OrdinalEncoder(cols=['Feelings','Relationship','Finance','Understanding','Study_pressure','Result','Living','Inferiority','Sick'])\n",
    "\n",
    "df = encoder.fit_transform(df)"
   ]
  },
  {
   "cell_type": "code",
   "execution_count": 23,
   "metadata": {},
   "outputs": [
    {
     "data": {
      "text/html": [
       "<div>\n",
       "<style scoped>\n",
       "    .dataframe tbody tr th:only-of-type {\n",
       "        vertical-align: middle;\n",
       "    }\n",
       "\n",
       "    .dataframe tbody tr th {\n",
       "        vertical-align: top;\n",
       "    }\n",
       "\n",
       "    .dataframe thead th {\n",
       "        text-align: right;\n",
       "    }\n",
       "</style>\n",
       "<table border=\"1\" class=\"dataframe\">\n",
       "  <thead>\n",
       "    <tr style=\"text-align: right;\">\n",
       "      <th></th>\n",
       "      <th>Feelings</th>\n",
       "      <th>Scale</th>\n",
       "      <th>Relationship</th>\n",
       "      <th>Finance</th>\n",
       "      <th>Adjustment</th>\n",
       "      <th>Understanding</th>\n",
       "      <th>Study_pressure</th>\n",
       "      <th>Result</th>\n",
       "      <th>Living</th>\n",
       "      <th>Inferiority</th>\n",
       "      <th>Sick</th>\n",
       "      <th>Sleep</th>\n",
       "    </tr>\n",
       "  </thead>\n",
       "  <tbody>\n",
       "    <tr>\n",
       "      <th>0</th>\n",
       "      <td>1</td>\n",
       "      <td>70</td>\n",
       "      <td>1</td>\n",
       "      <td>1</td>\n",
       "      <td>3</td>\n",
       "      <td>1</td>\n",
       "      <td>1</td>\n",
       "      <td>1</td>\n",
       "      <td>1</td>\n",
       "      <td>1</td>\n",
       "      <td>1</td>\n",
       "      <td>8</td>\n",
       "    </tr>\n",
       "    <tr>\n",
       "      <th>1</th>\n",
       "      <td>2</td>\n",
       "      <td>60</td>\n",
       "      <td>1</td>\n",
       "      <td>1</td>\n",
       "      <td>3</td>\n",
       "      <td>1</td>\n",
       "      <td>2</td>\n",
       "      <td>1</td>\n",
       "      <td>1</td>\n",
       "      <td>1</td>\n",
       "      <td>1</td>\n",
       "      <td>10</td>\n",
       "    </tr>\n",
       "    <tr>\n",
       "      <th>2</th>\n",
       "      <td>1</td>\n",
       "      <td>70</td>\n",
       "      <td>1</td>\n",
       "      <td>1</td>\n",
       "      <td>4</td>\n",
       "      <td>1</td>\n",
       "      <td>2</td>\n",
       "      <td>2</td>\n",
       "      <td>2</td>\n",
       "      <td>1</td>\n",
       "      <td>1</td>\n",
       "      <td>8</td>\n",
       "    </tr>\n",
       "    <tr>\n",
       "      <th>3</th>\n",
       "      <td>2</td>\n",
       "      <td>50</td>\n",
       "      <td>1</td>\n",
       "      <td>1</td>\n",
       "      <td>2</td>\n",
       "      <td>1</td>\n",
       "      <td>2</td>\n",
       "      <td>1</td>\n",
       "      <td>2</td>\n",
       "      <td>1</td>\n",
       "      <td>2</td>\n",
       "      <td>6</td>\n",
       "    </tr>\n",
       "    <tr>\n",
       "      <th>4</th>\n",
       "      <td>1</td>\n",
       "      <td>90</td>\n",
       "      <td>1</td>\n",
       "      <td>1</td>\n",
       "      <td>2</td>\n",
       "      <td>1</td>\n",
       "      <td>1</td>\n",
       "      <td>2</td>\n",
       "      <td>2</td>\n",
       "      <td>1</td>\n",
       "      <td>1</td>\n",
       "      <td>10</td>\n",
       "    </tr>\n",
       "  </tbody>\n",
       "</table>\n",
       "</div>"
      ],
      "text/plain": [
       "   Feelings  Scale  Relationship  Finance  Adjustment  Understanding  \\\n",
       "0         1     70             1        1           3              1   \n",
       "1         2     60             1        1           3              1   \n",
       "2         1     70             1        1           4              1   \n",
       "3         2     50             1        1           2              1   \n",
       "4         1     90             1        1           2              1   \n",
       "\n",
       "   Study_pressure  Result  Living  Inferiority  Sick  Sleep  \n",
       "0               1       1       1            1     1      8  \n",
       "1               2       1       1            1     1     10  \n",
       "2               2       2       2            1     1      8  \n",
       "3               2       1       2            1     2      6  \n",
       "4               1       2       2            1     1     10  "
      ]
     },
     "execution_count": 23,
     "metadata": {},
     "output_type": "execute_result"
    }
   ],
   "source": [
    "df.head()"
   ]
  },
  {
   "cell_type": "code",
   "execution_count": 24,
   "metadata": {},
   "outputs": [
    {
     "data": {
      "image/png": "[encoded data removed]",
      "text/plain": [
       "<Figure size 1080x1080 with 2 Axes>"
      ]
     },
     "metadata": {
      "needs_background": "light"
     },
     "output_type": "display_data"
    }
   ],
   "source": [
    "plt.figure(figsize=(15,15))\n",
    "p=sns.heatmap(df.corr(), annot=True,cmap='coolwarm',center=0) "
   ]
  },
  {
   "cell_type": "code",
   "execution_count": 25,
   "metadata": {},
   "outputs": [],
   "source": [
    "status = pd.get_dummies(df['Relationship'],drop_first=True)\n",
    "status1 = pd.get_dummies(df['Finance'],drop_first=True)\n",
    "status2 = pd.get_dummies(df['Understanding'],drop_first=True)\n",
    "status3 = pd.get_dummies(df['Study_pressure'],drop_first=True)\n",
    "status4 = pd.get_dummies(df['Result'],drop_first=True)\n",
    "status5 = pd.get_dummies(df['Living'],drop_first=True)\n",
    "status6 = pd.get_dummies(df['Inferiority'],drop_first=True)\n",
    "status7 = pd.get_dummies(df['Sick'],drop_first=True)"
   ]
  },
  {
   "cell_type": "code",
   "execution_count": 26,
   "metadata": {},
   "outputs": [
    {
     "data": {
      "text/html": [
       "<div>\n",
       "<style scoped>\n",
       "    .dataframe tbody tr th:only-of-type {\n",
       "        vertical-align: middle;\n",
       "    }\n",
       "\n",
       "    .dataframe tbody tr th {\n",
       "        vertical-align: top;\n",
       "    }\n",
       "\n",
       "    .dataframe thead th {\n",
       "        text-align: right;\n",
       "    }\n",
       "</style>\n",
       "<table border=\"1\" class=\"dataframe\">\n",
       "  <thead>\n",
       "    <tr style=\"text-align: right;\">\n",
       "      <th></th>\n",
       "      <th>2</th>\n",
       "      <th>3</th>\n",
       "      <th>4</th>\n",
       "      <th>5</th>\n",
       "    </tr>\n",
       "  </thead>\n",
       "  <tbody>\n",
       "    <tr>\n",
       "      <th>0</th>\n",
       "      <td>0</td>\n",
       "      <td>0</td>\n",
       "      <td>0</td>\n",
       "      <td>0</td>\n",
       "    </tr>\n",
       "    <tr>\n",
       "      <th>1</th>\n",
       "      <td>0</td>\n",
       "      <td>0</td>\n",
       "      <td>0</td>\n",
       "      <td>0</td>\n",
       "    </tr>\n",
       "    <tr>\n",
       "      <th>2</th>\n",
       "      <td>0</td>\n",
       "      <td>0</td>\n",
       "      <td>0</td>\n",
       "      <td>0</td>\n",
       "    </tr>\n",
       "    <tr>\n",
       "      <th>3</th>\n",
       "      <td>0</td>\n",
       "      <td>0</td>\n",
       "      <td>0</td>\n",
       "      <td>0</td>\n",
       "    </tr>\n",
       "    <tr>\n",
       "      <th>4</th>\n",
       "      <td>0</td>\n",
       "      <td>0</td>\n",
       "      <td>0</td>\n",
       "      <td>0</td>\n",
       "    </tr>\n",
       "  </tbody>\n",
       "</table>\n",
       "</div>"
      ],
      "text/plain": [
       "   2  3  4  5\n",
       "0  0  0  0  0\n",
       "1  0  0  0  0\n",
       "2  0  0  0  0\n",
       "3  0  0  0  0\n",
       "4  0  0  0  0"
      ]
     },
     "execution_count": 26,
     "metadata": {},
     "output_type": "execute_result"
    }
   ],
   "source": [
    "status.head()"
   ]
  },
  {
   "cell_type": "code",
   "execution_count": 27,
   "metadata": {},
   "outputs": [],
   "source": [
    "status=status.rename(columns={1 :'Single', 2 : 'In_a_relation',3:'Broken_up',4:'Complicated',5:'Married'})\n",
    "status1=status1.rename(columns={1 :'Finance_Yes', 2 : 'Finance_No'})\n",
    "status2=status2.rename(columns={1 :'Understanding_Good', 2 : 'Understanding_Normal',3:'Understanding_Bad'})\n",
    "status3=status3.rename(columns={1 :'Study_pressure_No', 2 : 'Study_pressure_Yes'})\n",
    "status4=status4.rename(columns={1 :'Result_No', 2 : 'Result_Yes'})\n",
    "status5=status5.rename(columns={1 :'Living_No', 2 : 'Living_Yes'})\n",
    "status6=status6.rename(columns={1 :'Inferiority_No', 2 : 'Inferiority_Yes'})\n",
    "status7=status7.rename(columns={1 :'Sick_No', 2 : 'Sick_Yes'})"
   ]
  },
  {
   "cell_type": "code",
   "execution_count": 28,
   "metadata": {},
   "outputs": [
    {
     "data": {
      "text/html": [
       "<div>\n",
       "<style scoped>\n",
       "    .dataframe tbody tr th:only-of-type {\n",
       "        vertical-align: middle;\n",
       "    }\n",
       "\n",
       "    .dataframe tbody tr th {\n",
       "        vertical-align: top;\n",
       "    }\n",
       "\n",
       "    .dataframe thead th {\n",
       "        text-align: right;\n",
       "    }\n",
       "</style>\n",
       "<table border=\"1\" class=\"dataframe\">\n",
       "  <thead>\n",
       "    <tr style=\"text-align: right;\">\n",
       "      <th></th>\n",
       "      <th>In_a_relation</th>\n",
       "      <th>Broken_up</th>\n",
       "      <th>Complicated</th>\n",
       "      <th>Married</th>\n",
       "    </tr>\n",
       "  </thead>\n",
       "  <tbody>\n",
       "    <tr>\n",
       "      <th>0</th>\n",
       "      <td>0</td>\n",
       "      <td>0</td>\n",
       "      <td>0</td>\n",
       "      <td>0</td>\n",
       "    </tr>\n",
       "    <tr>\n",
       "      <th>1</th>\n",
       "      <td>0</td>\n",
       "      <td>0</td>\n",
       "      <td>0</td>\n",
       "      <td>0</td>\n",
       "    </tr>\n",
       "    <tr>\n",
       "      <th>2</th>\n",
       "      <td>0</td>\n",
       "      <td>0</td>\n",
       "      <td>0</td>\n",
       "      <td>0</td>\n",
       "    </tr>\n",
       "    <tr>\n",
       "      <th>3</th>\n",
       "      <td>0</td>\n",
       "      <td>0</td>\n",
       "      <td>0</td>\n",
       "      <td>0</td>\n",
       "    </tr>\n",
       "    <tr>\n",
       "      <th>4</th>\n",
       "      <td>0</td>\n",
       "      <td>0</td>\n",
       "      <td>0</td>\n",
       "      <td>0</td>\n",
       "    </tr>\n",
       "  </tbody>\n",
       "</table>\n",
       "</div>"
      ],
      "text/plain": [
       "   In_a_relation  Broken_up  Complicated  Married\n",
       "0              0          0            0        0\n",
       "1              0          0            0        0\n",
       "2              0          0            0        0\n",
       "3              0          0            0        0\n",
       "4              0          0            0        0"
      ]
     },
     "execution_count": 28,
     "metadata": {},
     "output_type": "execute_result"
    }
   ],
   "source": [
    "status.head()"
   ]
  },
  {
   "cell_type": "code",
   "execution_count": 29,
   "metadata": {},
   "outputs": [],
   "source": [
    "df = pd.concat([df, status], axis = 1)\n",
    "df = pd.concat([df, status1], axis = 1)\n",
    "df = pd.concat([df, status2], axis = 1)\n",
    "df = pd.concat([df, status3], axis = 1)\n",
    "df = pd.concat([df, status4], axis = 1)\n",
    "df = pd.concat([df, status5], axis = 1)\n",
    "df = pd.concat([df, status6], axis = 1)\n",
    "df = pd.concat([df, status7], axis = 1)"
   ]
  },
  {
   "cell_type": "code",
   "execution_count": 30,
   "metadata": {},
   "outputs": [
    {
     "data": {
      "text/html": [
       "<div>\n",
       "<style scoped>\n",
       "    .dataframe tbody tr th:only-of-type {\n",
       "        vertical-align: middle;\n",
       "    }\n",
       "\n",
       "    .dataframe tbody tr th {\n",
       "        vertical-align: top;\n",
       "    }\n",
       "\n",
       "    .dataframe thead th {\n",
       "        text-align: right;\n",
       "    }\n",
       "</style>\n",
       "<table border=\"1\" class=\"dataframe\">\n",
       "  <thead>\n",
       "    <tr style=\"text-align: right;\">\n",
       "      <th></th>\n",
       "      <th>Feelings</th>\n",
       "      <th>Scale</th>\n",
       "      <th>Relationship</th>\n",
       "      <th>Finance</th>\n",
       "      <th>Adjustment</th>\n",
       "      <th>Understanding</th>\n",
       "      <th>Study_pressure</th>\n",
       "      <th>Result</th>\n",
       "      <th>Living</th>\n",
       "      <th>Inferiority</th>\n",
       "      <th>...</th>\n",
       "      <th>Complicated</th>\n",
       "      <th>Married</th>\n",
       "      <th>Finance_No</th>\n",
       "      <th>Understanding_Normal</th>\n",
       "      <th>Understanding_Bad</th>\n",
       "      <th>Study_pressure_Yes</th>\n",
       "      <th>Result_Yes</th>\n",
       "      <th>Living_Yes</th>\n",
       "      <th>Inferiority_Yes</th>\n",
       "      <th>Sick_Yes</th>\n",
       "    </tr>\n",
       "  </thead>\n",
       "  <tbody>\n",
       "    <tr>\n",
       "      <th>0</th>\n",
       "      <td>1</td>\n",
       "      <td>70</td>\n",
       "      <td>1</td>\n",
       "      <td>1</td>\n",
       "      <td>3</td>\n",
       "      <td>1</td>\n",
       "      <td>1</td>\n",
       "      <td>1</td>\n",
       "      <td>1</td>\n",
       "      <td>1</td>\n",
       "      <td>...</td>\n",
       "      <td>0</td>\n",
       "      <td>0</td>\n",
       "      <td>0</td>\n",
       "      <td>0</td>\n",
       "      <td>0</td>\n",
       "      <td>0</td>\n",
       "      <td>0</td>\n",
       "      <td>0</td>\n",
       "      <td>0</td>\n",
       "      <td>0</td>\n",
       "    </tr>\n",
       "    <tr>\n",
       "      <th>1</th>\n",
       "      <td>2</td>\n",
       "      <td>60</td>\n",
       "      <td>1</td>\n",
       "      <td>1</td>\n",
       "      <td>3</td>\n",
       "      <td>1</td>\n",
       "      <td>2</td>\n",
       "      <td>1</td>\n",
       "      <td>1</td>\n",
       "      <td>1</td>\n",
       "      <td>...</td>\n",
       "      <td>0</td>\n",
       "      <td>0</td>\n",
       "      <td>0</td>\n",
       "      <td>0</td>\n",
       "      <td>0</td>\n",
       "      <td>1</td>\n",
       "      <td>0</td>\n",
       "      <td>0</td>\n",
       "      <td>0</td>\n",
       "      <td>0</td>\n",
       "    </tr>\n",
       "    <tr>\n",
       "      <th>2</th>\n",
       "      <td>1</td>\n",
       "      <td>70</td>\n",
       "      <td>1</td>\n",
       "      <td>1</td>\n",
       "      <td>4</td>\n",
       "      <td>1</td>\n",
       "      <td>2</td>\n",
       "      <td>2</td>\n",
       "      <td>2</td>\n",
       "      <td>1</td>\n",
       "      <td>...</td>\n",
       "      <td>0</td>\n",
       "      <td>0</td>\n",
       "      <td>0</td>\n",
       "      <td>0</td>\n",
       "      <td>0</td>\n",
       "      <td>1</td>\n",
       "      <td>1</td>\n",
       "      <td>1</td>\n",
       "      <td>0</td>\n",
       "      <td>0</td>\n",
       "    </tr>\n",
       "    <tr>\n",
       "      <th>3</th>\n",
       "      <td>2</td>\n",
       "      <td>50</td>\n",
       "      <td>1</td>\n",
       "      <td>1</td>\n",
       "      <td>2</td>\n",
       "      <td>1</td>\n",
       "      <td>2</td>\n",
       "      <td>1</td>\n",
       "      <td>2</td>\n",
       "      <td>1</td>\n",
       "      <td>...</td>\n",
       "      <td>0</td>\n",
       "      <td>0</td>\n",
       "      <td>0</td>\n",
       "      <td>0</td>\n",
       "      <td>0</td>\n",
       "      <td>1</td>\n",
       "      <td>0</td>\n",
       "      <td>1</td>\n",
       "      <td>0</td>\n",
       "      <td>1</td>\n",
       "    </tr>\n",
       "    <tr>\n",
       "      <th>4</th>\n",
       "      <td>1</td>\n",
       "      <td>90</td>\n",
       "      <td>1</td>\n",
       "      <td>1</td>\n",
       "      <td>2</td>\n",
       "      <td>1</td>\n",
       "      <td>1</td>\n",
       "      <td>2</td>\n",
       "      <td>2</td>\n",
       "      <td>1</td>\n",
       "      <td>...</td>\n",
       "      <td>0</td>\n",
       "      <td>0</td>\n",
       "      <td>0</td>\n",
       "      <td>0</td>\n",
       "      <td>0</td>\n",
       "      <td>0</td>\n",
       "      <td>1</td>\n",
       "      <td>1</td>\n",
       "      <td>0</td>\n",
       "      <td>0</td>\n",
       "    </tr>\n",
       "  </tbody>\n",
       "</table>\n",
       "<p>5 rows × 24 columns</p>\n",
       "</div>"
      ],
      "text/plain": [
       "   Feelings  Scale  Relationship  Finance  Adjustment  Understanding  \\\n",
       "0         1     70             1        1           3              1   \n",
       "1         2     60             1        1           3              1   \n",
       "2         1     70             1        1           4              1   \n",
       "3         2     50             1        1           2              1   \n",
       "4         1     90             1        1           2              1   \n",
       "\n",
       "   Study_pressure  Result  Living  Inferiority  ...  Complicated  Married  \\\n",
       "0               1       1       1            1  ...            0        0   \n",
       "1               2       1       1            1  ...            0        0   \n",
       "2               2       2       2            1  ...            0        0   \n",
       "3               2       1       2            1  ...            0        0   \n",
       "4               1       2       2            1  ...            0        0   \n",
       "\n",
       "   Finance_No  Understanding_Normal  Understanding_Bad  Study_pressure_Yes  \\\n",
       "0           0                     0                  0                   0   \n",
       "1           0                     0                  0                   1   \n",
       "2           0                     0                  0                   1   \n",
       "3           0                     0                  0                   1   \n",
       "4           0                     0                  0                   0   \n",
       "\n",
       "   Result_Yes  Living_Yes  Inferiority_Yes  Sick_Yes  \n",
       "0           0           0                0         0  \n",
       "1           0           0                0         0  \n",
       "2           1           1                0         0  \n",
       "3           0           1                0         1  \n",
       "4           1           1                0         0  \n",
       "\n",
       "[5 rows x 24 columns]"
      ]
     },
     "execution_count": 30,
     "metadata": {},
     "output_type": "execute_result"
    }
   ],
   "source": [
    "df.head()"
   ]
  },
  {
   "cell_type": "code",
   "execution_count": 31,
   "metadata": {},
   "outputs": [],
   "source": [
    "df.drop(['Relationship'], axis = 1, inplace = True)\n",
    "df.drop(['Finance'], axis = 1, inplace = True)\n",
    "df.drop(['Understanding'], axis = 1, inplace = True)\n",
    "df.drop(['Study_pressure'], axis = 1, inplace = True)\n",
    "df.drop(['Result'], axis = 1, inplace = True)\n",
    "df.drop(['Living'], axis = 1, inplace = True)\n",
    "df.drop(['Inferiority'], axis = 1, inplace = True)\n",
    "df.drop(['Sick'], axis = 1, inplace = True)"
   ]
  },
  {
   "cell_type": "code",
   "execution_count": 32,
   "metadata": {},
   "outputs": [
    {
     "data": {
      "text/html": [
       "<div>\n",
       "<style scoped>\n",
       "    .dataframe tbody tr th:only-of-type {\n",
       "        vertical-align: middle;\n",
       "    }\n",
       "\n",
       "    .dataframe tbody tr th {\n",
       "        vertical-align: top;\n",
       "    }\n",
       "\n",
       "    .dataframe thead th {\n",
       "        text-align: right;\n",
       "    }\n",
       "</style>\n",
       "<table border=\"1\" class=\"dataframe\">\n",
       "  <thead>\n",
       "    <tr style=\"text-align: right;\">\n",
       "      <th></th>\n",
       "      <th>Feelings</th>\n",
       "      <th>Scale</th>\n",
       "      <th>Adjustment</th>\n",
       "      <th>Sleep</th>\n",
       "      <th>In_a_relation</th>\n",
       "      <th>Broken_up</th>\n",
       "      <th>Complicated</th>\n",
       "      <th>Married</th>\n",
       "      <th>Finance_No</th>\n",
       "      <th>Understanding_Normal</th>\n",
       "      <th>Understanding_Bad</th>\n",
       "      <th>Study_pressure_Yes</th>\n",
       "      <th>Result_Yes</th>\n",
       "      <th>Living_Yes</th>\n",
       "      <th>Inferiority_Yes</th>\n",
       "      <th>Sick_Yes</th>\n",
       "    </tr>\n",
       "  </thead>\n",
       "  <tbody>\n",
       "    <tr>\n",
       "      <th>0</th>\n",
       "      <td>1</td>\n",
       "      <td>70</td>\n",
       "      <td>3</td>\n",
       "      <td>8</td>\n",
       "      <td>0</td>\n",
       "      <td>0</td>\n",
       "      <td>0</td>\n",
       "      <td>0</td>\n",
       "      <td>0</td>\n",
       "      <td>0</td>\n",
       "      <td>0</td>\n",
       "      <td>0</td>\n",
       "      <td>0</td>\n",
       "      <td>0</td>\n",
       "      <td>0</td>\n",
       "      <td>0</td>\n",
       "    </tr>\n",
       "    <tr>\n",
       "      <th>1</th>\n",
       "      <td>2</td>\n",
       "      <td>60</td>\n",
       "      <td>3</td>\n",
       "      <td>10</td>\n",
       "      <td>0</td>\n",
       "      <td>0</td>\n",
       "      <td>0</td>\n",
       "      <td>0</td>\n",
       "      <td>0</td>\n",
       "      <td>0</td>\n",
       "      <td>0</td>\n",
       "      <td>1</td>\n",
       "      <td>0</td>\n",
       "      <td>0</td>\n",
       "      <td>0</td>\n",
       "      <td>0</td>\n",
       "    </tr>\n",
       "    <tr>\n",
       "      <th>2</th>\n",
       "      <td>1</td>\n",
       "      <td>70</td>\n",
       "      <td>4</td>\n",
       "      <td>8</td>\n",
       "      <td>0</td>\n",
       "      <td>0</td>\n",
       "      <td>0</td>\n",
       "      <td>0</td>\n",
       "      <td>0</td>\n",
       "      <td>0</td>\n",
       "      <td>0</td>\n",
       "      <td>1</td>\n",
       "      <td>1</td>\n",
       "      <td>1</td>\n",
       "      <td>0</td>\n",
       "      <td>0</td>\n",
       "    </tr>\n",
       "    <tr>\n",
       "      <th>3</th>\n",
       "      <td>2</td>\n",
       "      <td>50</td>\n",
       "      <td>2</td>\n",
       "      <td>6</td>\n",
       "      <td>0</td>\n",
       "      <td>0</td>\n",
       "      <td>0</td>\n",
       "      <td>0</td>\n",
       "      <td>0</td>\n",
       "      <td>0</td>\n",
       "      <td>0</td>\n",
       "      <td>1</td>\n",
       "      <td>0</td>\n",
       "      <td>1</td>\n",
       "      <td>0</td>\n",
       "      <td>1</td>\n",
       "    </tr>\n",
       "    <tr>\n",
       "      <th>4</th>\n",
       "      <td>1</td>\n",
       "      <td>90</td>\n",
       "      <td>2</td>\n",
       "      <td>10</td>\n",
       "      <td>0</td>\n",
       "      <td>0</td>\n",
       "      <td>0</td>\n",
       "      <td>0</td>\n",
       "      <td>0</td>\n",
       "      <td>0</td>\n",
       "      <td>0</td>\n",
       "      <td>0</td>\n",
       "      <td>1</td>\n",
       "      <td>1</td>\n",
       "      <td>0</td>\n",
       "      <td>0</td>\n",
       "    </tr>\n",
       "  </tbody>\n",
       "</table>\n",
       "</div>"
      ],
      "text/plain": [
       "   Feelings  Scale  Adjustment  Sleep  In_a_relation  Broken_up  Complicated  \\\n",
       "0         1     70           3      8              0          0            0   \n",
       "1         2     60           3     10              0          0            0   \n",
       "2         1     70           4      8              0          0            0   \n",
       "3         2     50           2      6              0          0            0   \n",
       "4         1     90           2     10              0          0            0   \n",
       "\n",
       "   Married  Finance_No  Understanding_Normal  Understanding_Bad  \\\n",
       "0        0           0                     0                  0   \n",
       "1        0           0                     0                  0   \n",
       "2        0           0                     0                  0   \n",
       "3        0           0                     0                  0   \n",
       "4        0           0                     0                  0   \n",
       "\n",
       "   Study_pressure_Yes  Result_Yes  Living_Yes  Inferiority_Yes  Sick_Yes  \n",
       "0                   0           0           0                0         0  \n",
       "1                   1           0           0                0         0  \n",
       "2                   1           1           1                0         0  \n",
       "3                   1           0           1                0         1  \n",
       "4                   0           1           1                0         0  "
      ]
     },
     "execution_count": 32,
     "metadata": {},
     "output_type": "execute_result"
    }
   ],
   "source": [
    "df.head()"
   ]
  },
  {
   "cell_type": "code",
   "execution_count": 33,
   "metadata": {},
   "outputs": [
    {
     "data": {
      "image/png": "[encoded data removed]",
      "text/plain": [
       "<Figure size 1080x864 with 16 Axes>"
      ]
     },
     "metadata": {
      "needs_background": "light"
     },
     "output_type": "display_data"
    }
   ],
   "source": [
    "df.hist(figsize=(15,12),bins = 15)\n",
    "plt.title(\"Features Distribution\")\n",
    "plt.show()"
   ]
  },
  {
   "cell_type": "code",
   "execution_count": 34,
   "metadata": {},
   "outputs": [],
   "source": [
    "X = df.drop(['Feelings'], axis=1)\n",
    "y = df['Feelings']"
   ]
  },
  {
   "cell_type": "code",
   "execution_count": 35,
   "metadata": {},
   "outputs": [],
   "source": [
    "#def normalize (x): \n",
    "  # return ((x-np.min(x))/ (max(x) - min(x)))\n",
    "                                                                                        \n",
    "#X = X.apply(normalize)"
   ]
  },
  {
   "cell_type": "code",
   "execution_count": 36,
   "metadata": {},
   "outputs": [],
   "source": [
    "from sklearn.model_selection import train_test_split\n",
    "\n",
    "X_train, X_test, y_train, y_test = train_test_split(X, y, test_size = 0.2, random_state =42)"
   ]
  },
  {
   "cell_type": "code",
   "execution_count": 37,
   "metadata": {},
   "outputs": [],
   "source": [
    "from sklearn.preprocessing import StandardScaler\n",
    "\n",
    "sc = StandardScaler()\n",
    "X_train = sc.fit_transform(X_train)\n",
    "X_test = sc.transform(X_test)"
   ]
  },
  {
   "cell_type": "code",
   "execution_count": 38,
   "metadata": {},
   "outputs": [
    {
     "data": {
      "text/plain": [
       "((726, 15), (182, 15), (726,), (182,))"
      ]
     },
     "execution_count": 38,
     "metadata": {},
     "output_type": "execute_result"
    }
   ],
   "source": [
    "X_train.shape, X_test.shape, y_train.shape, y_test.shape"
   ]
  },
  {
   "cell_type": "code",
   "execution_count": 39,
   "metadata": {},
   "outputs": [
    {
     "name": "stdout",
     "output_type": "stream",
     "text": [
      "WARNING:tensorflow:From C:\\Users\\Public\\Anaconda3\\lib\\site-packages\\tensorflow\\python\\keras\\initializers.py:143: calling RandomNormal.__init__ (from tensorflow.python.ops.init_ops) with dtype is deprecated and will be removed in a future version.\n",
      "Instructions for updating:\n",
      "Call initializer instance with the dtype argument instead of passing it to the constructor\n"
     ]
    }
   ],
   "source": [
    "import tensorflow as tf\n",
    "from tensorflow.keras.models import Sequential\n",
    "from tensorflow.keras.layers import Dense\n",
    "from tensorflow.keras.layers import Dropout\n",
    "\n",
    "model = Sequential()\n",
    "model.add(Dense(32, activation='relu', kernel_initializer='normal', input_dim=15))\n",
    "model.add(Dropout(rate =0.1))\n",
    "model.add(Dense(16, activation='relu', kernel_initializer='normal'))\n",
    "model.add(Dropout(rate =0.1))\n",
    "model.add(Dense(6, activation='softmax', kernel_initializer='normal')) "
   ]
  },
  {
   "cell_type": "code",
   "execution_count": 40,
   "metadata": {},
   "outputs": [
    {
     "name": "stdout",
     "output_type": "stream",
     "text": [
      "Model: \"sequential\"\n",
      "_________________________________________________________________\n",
      "Layer (type)                 Output Shape              Param #   \n",
      "=================================================================\n",
      "dense (Dense)                (None, 32)                512       \n",
      "_________________________________________________________________\n",
      "dropout (Dropout)            (None, 32)                0         \n",
      "_________________________________________________________________\n",
      "dense_1 (Dense)              (None, 16)                528       \n",
      "_________________________________________________________________\n",
      "dropout_1 (Dropout)          (None, 16)                0         \n",
      "_________________________________________________________________\n",
      "dense_2 (Dense)              (None, 6)                 102       \n",
      "=================================================================\n",
      "Total params: 1,142\n",
      "Trainable params: 1,142\n",
      "Non-trainable params: 0\n",
      "_________________________________________________________________\n"
     ]
    }
   ],
   "source": [
    "model.compile(optimizer = 'adam', loss = 'sparse_categorical_crossentropy', metrics = ['accuracy'])\n",
    "model.summary()"
   ]
  },
  {
   "cell_type": "code",
   "execution_count": 41,
   "metadata": {},
   "outputs": [
    {
     "name": "stdout",
     "output_type": "stream",
     "text": [
      "Train on 486 samples, validate on 240 samples\n",
      "Epoch 1/100\n",
      "486/486 [==============================] - 0s 463us/sample - loss: 1.7832 - acc: 0.4383 - val_loss: 1.7661 - val_acc: 0.6208\n",
      "Epoch 2/100\n",
      "486/486 [==============================] - 0s 70us/sample - loss: 1.7455 - acc: 0.6193 - val_loss: 1.7020 - val_acc: 0.6417\n",
      "Epoch 3/100\n",
      "486/486 [==============================] - 0s 55us/sample - loss: 1.6472 - acc: 0.5638 - val_loss: 1.5419 - val_acc: 0.6458\n",
      "Epoch 4/100\n",
      "486/486 [==============================] - 0s 55us/sample - loss: 1.4382 - acc: 0.5144 - val_loss: 1.2601 - val_acc: 0.4667\n",
      "Epoch 5/100\n",
      "486/486 [==============================] - 0s 60us/sample - loss: 1.1601 - acc: 0.5123 - val_loss: 1.0017 - val_acc: 0.4667\n",
      "Epoch 6/100\n",
      "486/486 [==============================] - 0s 57us/sample - loss: 0.9683 - acc: 0.5535 - val_loss: 0.8649 - val_acc: 0.6875\n",
      "Epoch 7/100\n",
      "486/486 [==============================] - 0s 49us/sample - loss: 0.8523 - acc: 0.6811 - val_loss: 0.7692 - val_acc: 0.8083\n",
      "Epoch 8/100\n",
      "486/486 [==============================] - 0s 50us/sample - loss: 0.7393 - acc: 0.7634 - val_loss: 0.6813 - val_acc: 0.8083\n",
      "Epoch 9/100\n",
      "486/486 [==============================] - 0s 62us/sample - loss: 0.6536 - acc: 0.7613 - val_loss: 0.5976 - val_acc: 0.8208\n",
      "Epoch 10/100\n",
      "486/486 [==============================] - 0s 60us/sample - loss: 0.5808 - acc: 0.7654 - val_loss: 0.5264 - val_acc: 0.8167\n",
      "Epoch 11/100\n",
      "486/486 [==============================] - 0s 55us/sample - loss: 0.5006 - acc: 0.8066 - val_loss: 0.4605 - val_acc: 0.8208\n",
      "Epoch 12/100\n",
      "486/486 [==============================] - 0s 51us/sample - loss: 0.4598 - acc: 0.8066 - val_loss: 0.4139 - val_acc: 0.8292\n",
      "Epoch 13/100\n",
      "486/486 [==============================] - 0s 51us/sample - loss: 0.4134 - acc: 0.8354 - val_loss: 0.3752 - val_acc: 0.8292\n",
      "Epoch 14/100\n",
      "486/486 [==============================] - 0s 51us/sample - loss: 0.3783 - acc: 0.8313 - val_loss: 0.3519 - val_acc: 0.8292\n",
      "Epoch 15/100\n",
      "486/486 [==============================] - 0s 53us/sample - loss: 0.3729 - acc: 0.8230 - val_loss: 0.3298 - val_acc: 0.8292\n",
      "Epoch 16/100\n",
      "486/486 [==============================] - 0s 51us/sample - loss: 0.3511 - acc: 0.8354 - val_loss: 0.3131 - val_acc: 0.8292\n",
      "Epoch 17/100\n",
      "486/486 [==============================] - 0s 57us/sample - loss: 0.3227 - acc: 0.8580 - val_loss: 0.2933 - val_acc: 0.9042\n",
      "Epoch 18/100\n",
      "486/486 [==============================] - 0s 64us/sample - loss: 0.3279 - acc: 0.8889 - val_loss: 0.2816 - val_acc: 0.9042\n",
      "Epoch 19/100\n",
      "486/486 [==============================] - 0s 60us/sample - loss: 0.2908 - acc: 0.8909 - val_loss: 0.2700 - val_acc: 0.9042\n",
      "Epoch 20/100\n",
      "486/486 [==============================] - 0s 62us/sample - loss: 0.2764 - acc: 0.9074 - val_loss: 0.2569 - val_acc: 0.9042\n",
      "Epoch 21/100\n",
      "486/486 [==============================] - 0s 70us/sample - loss: 0.2720 - acc: 0.9136 - val_loss: 0.2489 - val_acc: 0.9042\n",
      "Epoch 22/100\n",
      "486/486 [==============================] - 0s 57us/sample - loss: 0.2604 - acc: 0.9156 - val_loss: 0.2355 - val_acc: 0.9042\n",
      "Epoch 23/100\n",
      "486/486 [==============================] - 0s 53us/sample - loss: 0.2444 - acc: 0.9177 - val_loss: 0.2273 - val_acc: 0.9083\n",
      "Epoch 24/100\n",
      "486/486 [==============================] - 0s 70us/sample - loss: 0.2315 - acc: 0.9300 - val_loss: 0.2211 - val_acc: 0.9083\n",
      "Epoch 25/100\n",
      "486/486 [==============================] - 0s 57us/sample - loss: 0.2310 - acc: 0.9198 - val_loss: 0.2126 - val_acc: 0.9083\n",
      "Epoch 26/100\n",
      "486/486 [==============================] - 0s 49us/sample - loss: 0.2082 - acc: 0.9362 - val_loss: 0.2006 - val_acc: 0.9458\n",
      "Epoch 27/100\n",
      "486/486 [==============================] - 0s 49us/sample - loss: 0.2268 - acc: 0.9280 - val_loss: 0.2026 - val_acc: 0.9125\n",
      "Epoch 28/100\n",
      "486/486 [==============================] - 0s 53us/sample - loss: 0.2014 - acc: 0.9300 - val_loss: 0.1826 - val_acc: 0.9458\n",
      "Epoch 29/100\n",
      "486/486 [==============================] - 0s 47us/sample - loss: 0.1887 - acc: 0.9383 - val_loss: 0.1770 - val_acc: 0.9458\n",
      "Epoch 30/100\n",
      "486/486 [==============================] - 0s 53us/sample - loss: 0.1744 - acc: 0.9486 - val_loss: 0.1788 - val_acc: 0.9458\n",
      "Epoch 31/100\n",
      "486/486 [==============================] - 0s 55us/sample - loss: 0.1861 - acc: 0.9362 - val_loss: 0.1741 - val_acc: 0.9417\n",
      "Epoch 32/100\n",
      "486/486 [==============================] - 0s 49us/sample - loss: 0.1867 - acc: 0.9486 - val_loss: 0.1699 - val_acc: 0.9417\n",
      "Epoch 33/100\n",
      "486/486 [==============================] - 0s 49us/sample - loss: 0.1763 - acc: 0.9486 - val_loss: 0.1564 - val_acc: 0.9417\n",
      "Epoch 34/100\n",
      "486/486 [==============================] - 0s 57us/sample - loss: 0.1599 - acc: 0.9588 - val_loss: 0.1665 - val_acc: 0.9375\n",
      "Epoch 35/100\n",
      "486/486 [==============================] - 0s 66us/sample - loss: 0.1503 - acc: 0.9568 - val_loss: 0.1645 - val_acc: 0.9417\n",
      "Epoch 36/100\n",
      "486/486 [==============================] - 0s 80us/sample - loss: 0.1591 - acc: 0.9588 - val_loss: 0.1520 - val_acc: 0.9375\n",
      "Epoch 37/100\n",
      "486/486 [==============================] - 0s 113us/sample - loss: 0.1620 - acc: 0.9444 - val_loss: 0.1514 - val_acc: 0.9375\n",
      "Epoch 38/100\n",
      "486/486 [==============================] - 0s 109us/sample - loss: 0.1389 - acc: 0.9630 - val_loss: 0.1485 - val_acc: 0.9417\n",
      "Epoch 39/100\n",
      "486/486 [==============================] - 0s 87us/sample - loss: 0.1321 - acc: 0.9568 - val_loss: 0.1426 - val_acc: 0.9417\n",
      "Epoch 40/100\n",
      "486/486 [==============================] - 0s 88us/sample - loss: 0.1307 - acc: 0.9630 - val_loss: 0.1389 - val_acc: 0.9417\n",
      "Epoch 41/100\n",
      "486/486 [==============================] - 0s 90us/sample - loss: 0.1353 - acc: 0.9568 - val_loss: 0.1335 - val_acc: 0.9417\n",
      "Epoch 42/100\n",
      "486/486 [==============================] - 0s 72us/sample - loss: 0.1162 - acc: 0.9609 - val_loss: 0.1349 - val_acc: 0.9417\n",
      "Epoch 43/100\n",
      "486/486 [==============================] - 0s 64us/sample - loss: 0.1346 - acc: 0.9568 - val_loss: 0.1372 - val_acc: 0.9417\n",
      "Epoch 44/100\n",
      "486/486 [==============================] - 0s 66us/sample - loss: 0.1212 - acc: 0.9671 - val_loss: 0.1279 - val_acc: 0.9417\n",
      "Epoch 45/100\n",
      "486/486 [==============================] - 0s 66us/sample - loss: 0.1097 - acc: 0.9630 - val_loss: 0.1323 - val_acc: 0.9375\n",
      "Epoch 46/100\n",
      "486/486 [==============================] - 0s 64us/sample - loss: 0.1055 - acc: 0.9630 - val_loss: 0.1289 - val_acc: 0.9375\n",
      "Epoch 47/100\n",
      "486/486 [==============================] - 0s 72us/sample - loss: 0.1136 - acc: 0.9609 - val_loss: 0.1264 - val_acc: 0.9375\n",
      "Epoch 48/100\n",
      "486/486 [==============================] - 0s 66us/sample - loss: 0.1165 - acc: 0.9568 - val_loss: 0.1242 - val_acc: 0.9417\n",
      "Epoch 49/100\n",
      "486/486 [==============================] - 0s 64us/sample - loss: 0.0997 - acc: 0.9753 - val_loss: 0.1260 - val_acc: 0.9417\n",
      "Epoch 50/100\n",
      "486/486 [==============================] - 0s 76us/sample - loss: 0.0971 - acc: 0.9733 - val_loss: 0.1201 - val_acc: 0.9417\n",
      "Epoch 51/100\n",
      "486/486 [==============================] - 0s 60us/sample - loss: 0.1001 - acc: 0.9671 - val_loss: 0.1141 - val_acc: 0.9417\n",
      "Epoch 52/100\n",
      "486/486 [==============================] - 0s 64us/sample - loss: 0.1039 - acc: 0.9671 - val_loss: 0.1230 - val_acc: 0.9417\n",
      "Epoch 53/100\n",
      "486/486 [==============================] - 0s 64us/sample - loss: 0.0812 - acc: 0.9774 - val_loss: 0.1175 - val_acc: 0.9417\n",
      "Epoch 54/100\n",
      "486/486 [==============================] - 0s 66us/sample - loss: 0.0996 - acc: 0.9753 - val_loss: 0.1123 - val_acc: 0.9417\n",
      "Epoch 55/100\n",
      "486/486 [==============================] - 0s 64us/sample - loss: 0.0787 - acc: 0.9815 - val_loss: 0.1143 - val_acc: 0.9458\n",
      "Epoch 56/100\n",
      "486/486 [==============================] - 0s 57us/sample - loss: 0.0804 - acc: 0.9774 - val_loss: 0.1140 - val_acc: 0.9417\n",
      "Epoch 57/100\n",
      "486/486 [==============================] - 0s 62us/sample - loss: 0.0836 - acc: 0.9671 - val_loss: 0.1190 - val_acc: 0.9458\n",
      "Epoch 58/100\n",
      "486/486 [==============================] - 0s 62us/sample - loss: 0.0792 - acc: 0.9774 - val_loss: 0.1122 - val_acc: 0.9458\n",
      "Epoch 59/100\n",
      "486/486 [==============================] - 0s 57us/sample - loss: 0.0749 - acc: 0.9753 - val_loss: 0.1143 - val_acc: 0.9458\n",
      "Epoch 60/100\n",
      "486/486 [==============================] - 0s 62us/sample - loss: 0.0901 - acc: 0.9650 - val_loss: 0.1254 - val_acc: 0.9417\n",
      "Epoch 61/100\n",
      "486/486 [==============================] - 0s 53us/sample - loss: 0.0856 - acc: 0.9712 - val_loss: 0.1045 - val_acc: 0.9500\n",
      "Epoch 62/100\n",
      "486/486 [==============================] - 0s 60us/sample - loss: 0.0772 - acc: 0.9733 - val_loss: 0.1087 - val_acc: 0.9500\n",
      "Epoch 63/100\n",
      "486/486 [==============================] - 0s 62us/sample - loss: 0.0679 - acc: 0.9794 - val_loss: 0.1117 - val_acc: 0.9458\n",
      "Epoch 64/100\n",
      "486/486 [==============================] - 0s 60us/sample - loss: 0.0620 - acc: 0.9794 - val_loss: 0.1079 - val_acc: 0.9542\n",
      "Epoch 65/100\n",
      "486/486 [==============================] - 0s 53us/sample - loss: 0.0618 - acc: 0.9815 - val_loss: 0.0983 - val_acc: 0.9625\n",
      "Epoch 66/100\n",
      "486/486 [==============================] - 0s 57us/sample - loss: 0.0602 - acc: 0.9856 - val_loss: 0.1039 - val_acc: 0.9542\n",
      "Epoch 67/100\n",
      "486/486 [==============================] - 0s 55us/sample - loss: 0.0626 - acc: 0.9856 - val_loss: 0.1031 - val_acc: 0.9583\n",
      "Epoch 68/100\n",
      "486/486 [==============================] - 0s 62us/sample - loss: 0.0614 - acc: 0.9774 - val_loss: 0.1037 - val_acc: 0.9583\n",
      "Epoch 69/100\n",
      "486/486 [==============================] - 0s 57us/sample - loss: 0.0579 - acc: 0.9856 - val_loss: 0.1042 - val_acc: 0.9500\n",
      "Epoch 70/100\n",
      "486/486 [==============================] - 0s 60us/sample - loss: 0.0624 - acc: 0.9794 - val_loss: 0.1019 - val_acc: 0.9542\n",
      "Epoch 71/100\n",
      "486/486 [==============================] - 0s 70us/sample - loss: 0.0483 - acc: 0.9877 - val_loss: 0.1004 - val_acc: 0.9542\n",
      "Epoch 72/100\n",
      "486/486 [==============================] - 0s 94us/sample - loss: 0.0592 - acc: 0.9856 - val_loss: 0.0972 - val_acc: 0.9542\n",
      "Epoch 73/100\n",
      "486/486 [==============================] - 0s 66us/sample - loss: 0.0622 - acc: 0.9753 - val_loss: 0.1014 - val_acc: 0.9542\n",
      "Epoch 74/100\n",
      "486/486 [==============================] - 0s 70us/sample - loss: 0.0583 - acc: 0.9774 - val_loss: 0.0965 - val_acc: 0.9583\n",
      "Epoch 75/100\n",
      "486/486 [==============================] - 0s 72us/sample - loss: 0.0565 - acc: 0.9815 - val_loss: 0.1007 - val_acc: 0.9583\n",
      "Epoch 76/100\n",
      "486/486 [==============================] - 0s 70us/sample - loss: 0.0612 - acc: 0.9794 - val_loss: 0.0977 - val_acc: 0.9583\n",
      "Epoch 77/100\n",
      "486/486 [==============================] - 0s 72us/sample - loss: 0.0445 - acc: 0.9918 - val_loss: 0.0981 - val_acc: 0.9583\n",
      "Epoch 78/100\n",
      "486/486 [==============================] - 0s 78us/sample - loss: 0.0450 - acc: 0.9856 - val_loss: 0.1012 - val_acc: 0.9625\n",
      "Epoch 79/100\n",
      "486/486 [==============================] - 0s 66us/sample - loss: 0.0331 - acc: 0.9938 - val_loss: 0.1029 - val_acc: 0.9625\n",
      "Epoch 80/100\n",
      "486/486 [==============================] - 0s 77us/sample - loss: 0.0451 - acc: 0.9897 - val_loss: 0.0984 - val_acc: 0.9625\n",
      "Epoch 81/100\n",
      "486/486 [==============================] - 0s 70us/sample - loss: 0.0345 - acc: 0.9897 - val_loss: 0.1009 - val_acc: 0.9625\n",
      "Epoch 82/100\n",
      "486/486 [==============================] - 0s 70us/sample - loss: 0.0382 - acc: 0.9897 - val_loss: 0.0939 - val_acc: 0.9625\n",
      "Epoch 83/100\n",
      "486/486 [==============================] - 0s 71us/sample - loss: 0.0371 - acc: 0.9897 - val_loss: 0.0976 - val_acc: 0.9625\n",
      "Epoch 84/100\n",
      "486/486 [==============================] - 0s 60us/sample - loss: 0.0354 - acc: 0.9938 - val_loss: 0.0919 - val_acc: 0.9667\n",
      "Epoch 85/100\n",
      "486/486 [==============================] - 0s 62us/sample - loss: 0.0481 - acc: 0.9856 - val_loss: 0.0922 - val_acc: 0.9625\n",
      "Epoch 86/100\n",
      "486/486 [==============================] - 0s 70us/sample - loss: 0.0332 - acc: 0.9938 - val_loss: 0.0942 - val_acc: 0.9625\n",
      "Epoch 87/100\n",
      "486/486 [==============================] - 0s 70us/sample - loss: 0.0406 - acc: 0.9897 - val_loss: 0.0953 - val_acc: 0.9625\n",
      "Epoch 88/100\n",
      "486/486 [==============================] - 0s 88us/sample - loss: 0.0380 - acc: 0.9897 - val_loss: 0.0976 - val_acc: 0.9625\n",
      "Epoch 89/100\n",
      "486/486 [==============================] - 0s 60us/sample - loss: 0.0397 - acc: 0.9877 - val_loss: 0.1027 - val_acc: 0.9625\n",
      "Epoch 90/100\n",
      "486/486 [==============================] - 0s 57us/sample - loss: 0.0436 - acc: 0.9835 - val_loss: 0.0978 - val_acc: 0.9625\n",
      "Epoch 91/100\n",
      "486/486 [==============================] - 0s 68us/sample - loss: 0.0386 - acc: 0.9835 - val_loss: 0.0876 - val_acc: 0.9667\n",
      "Epoch 92/100\n",
      "486/486 [==============================] - 0s 66us/sample - loss: 0.0406 - acc: 0.9897 - val_loss: 0.0866 - val_acc: 0.9667\n",
      "Epoch 93/100\n",
      "486/486 [==============================] - 0s 68us/sample - loss: 0.0330 - acc: 0.9918 - val_loss: 0.0941 - val_acc: 0.9667\n",
      "Epoch 94/100\n",
      "486/486 [==============================] - 0s 72us/sample - loss: 0.0263 - acc: 0.9918 - val_loss: 0.0878 - val_acc: 0.9708\n",
      "Epoch 95/100\n",
      "486/486 [==============================] - 0s 62us/sample - loss: 0.0232 - acc: 0.9938 - val_loss: 0.0933 - val_acc: 0.9625\n",
      "Epoch 96/100\n",
      "486/486 [==============================] - 0s 57us/sample - loss: 0.0285 - acc: 0.9959 - val_loss: 0.0999 - val_acc: 0.9625\n",
      "Epoch 97/100\n",
      "486/486 [==============================] - 0s 62us/sample - loss: 0.0351 - acc: 0.9877 - val_loss: 0.0947 - val_acc: 0.9625\n",
      "Epoch 98/100\n",
      "486/486 [==============================] - 0s 74us/sample - loss: 0.0329 - acc: 0.9918 - val_loss: 0.0962 - val_acc: 0.9625\n",
      "Epoch 99/100\n",
      "486/486 [==============================] - 0s 63us/sample - loss: 0.0296 - acc: 0.9918 - val_loss: 0.0975 - val_acc: 0.9625\n",
      "Epoch 100/100\n",
      "486/486 [==============================] - 0s 64us/sample - loss: 0.0374 - acc: 0.9877 - val_loss: 0.0980 - val_acc: 0.9625\n"
     ]
    }
   ],
   "source": [
    "history = model.fit(X_train, y_train,validation_split=0.33, epochs=100, batch_size=32, verbose = 1)"
   ]
  },
  {
   "cell_type": "code",
   "execution_count": 42,
   "metadata": {},
   "outputs": [
    {
     "name": "stdout",
     "output_type": "stream",
     "text": [
      "726/726 [==============================] - 0s 58us/sample - loss: 0.0385 - acc: 0.9876\n",
      "Train score: 0.038505126352386024\n",
      "Train accuracy: 0.9876033\n"
     ]
    }
   ],
   "source": [
    "score, acc = model.evaluate(X_train, y_train,batch_size=10)\n",
    "print('Train score:', score)\n",
    "print('Train accuracy:', acc)"
   ]
  },
  {
   "cell_type": "code",
   "execution_count": 43,
   "metadata": {},
   "outputs": [
    {
     "data": {
      "text/plain": [
       "865    5\n",
       "439    2\n",
       "342    4\n",
       "736    4\n",
       "785    5\n",
       "837    1\n",
       "523    3\n",
       "265    1\n",
       "903    3\n",
       "735    3\n",
       "Name: Feelings, dtype: int32"
      ]
     },
     "execution_count": 43,
     "metadata": {},
     "output_type": "execute_result"
    }
   ],
   "source": [
    "y_test.head(10)"
   ]
  },
  {
   "cell_type": "code",
   "execution_count": 44,
   "metadata": {},
   "outputs": [
    {
     "data": {
      "text/plain": [
       "array([[False, False, False, False, False,  True],\n",
       "       [False, False,  True, False, False, False],\n",
       "       [False, False, False, False,  True, False],\n",
       "       [False, False, False, False,  True, False],\n",
       "       [False, False, False, False, False,  True],\n",
       "       [False,  True, False, False, False, False],\n",
       "       [False, False, False,  True, False, False],\n",
       "       [False,  True, False, False, False, False],\n",
       "       [False, False, False,  True, False, False],\n",
       "       [False, False, False,  True, False, False]])"
      ]
     },
     "execution_count": 44,
     "metadata": {},
     "output_type": "execute_result"
    }
   ],
   "source": [
    "y_pred = model.predict(X_test)\n",
    "y_pred = (y_pred>0.5)\n",
    "y_pred[0:10]"
   ]
  },
  {
   "cell_type": "code",
   "execution_count": 45,
   "metadata": {},
   "outputs": [
    {
     "name": "stdout",
     "output_type": "stream",
     "text": [
      "182/182 [==============================] - 0s 66us/sample - loss: 0.1606 - acc: 0.9615\n",
      "Test score: 0.16056244824705954\n",
      "Test accuracy: 0.96153843\n"
     ]
    }
   ],
   "source": [
    "score, acc = model.evaluate(X_test, y_test,batch_size=10)\n",
    "print('Test score:', score)\n",
    "print('Test accuracy:', acc)"
   ]
  },
  {
   "cell_type": "code",
   "execution_count": 46,
   "metadata": {},
   "outputs": [
    {
     "data": {
      "image/png": "[encoded data removed]",
      "text/plain": [
       "<Figure size 432x288 with 1 Axes>"
      ]
     },
     "metadata": {
      "needs_background": "light"
     },
     "output_type": "display_data"
    }
   ],
   "source": [
    "import matplotlib.pyplot as plt\n",
    "\n",
    "# Plotting loss\n",
    "plt.plot(history.history['loss'])\n",
    "plt.title('Categorical Cross Entropy Loss on Train dataset')\n",
    "plt.ylabel('loss')\n",
    "plt.xlabel('epoch')\n",
    "plt.show()"
   ]
  },
  {
   "cell_type": "code",
   "execution_count": 47,
   "metadata": {},
   "outputs": [
    {
     "data": {
      "image/png": "[encoded data removed]",
      "text/plain": [
       "<Figure size 432x288 with 1 Axes>"
      ]
     },
     "metadata": {
      "needs_background": "light"
     },
     "output_type": "display_data"
    }
   ],
   "source": [
    "# Plotting accuracy metric\n",
    "plt.plot(history.history['acc'])\n",
    "plt.title('Accuracy on the train dataset')\n",
    "plt.ylabel('accuracy')\n",
    "plt.xlabel('epoch')\n",
    "plt.show()"
   ]
  },
  {
   "cell_type": "code",
   "execution_count": 48,
   "metadata": {},
   "outputs": [
    {
     "data": {
      "image/png": "[encoded data removed]",
      "text/plain": [
       "<Figure size 432x288 with 1 Axes>"
      ]
     },
     "metadata": {
      "needs_background": "light"
     },
     "output_type": "display_data"
    }
   ],
   "source": [
    "plt.plot(history.history['val_acc'])\n",
    "plt.title('Validation accuracy on the test dataset')\n",
    "plt.ylabel('validation accuracy')\n",
    "plt.xlabel('epoch')\n",
    "plt.show()"
   ]
  },
  {
   "cell_type": "code",
   "execution_count": 49,
   "metadata": {},
   "outputs": [
    {
     "data": {
      "image/png": "[encoded data removed]",
      "text/plain": [
       "<Figure size 432x288 with 1 Axes>"
      ]
     },
     "metadata": {
      "needs_background": "light"
     },
     "output_type": "display_data"
    }
   ],
   "source": [
    "plt.plot(history.history['val_loss'])\n",
    "plt.title('Validation loss on the test dataset')\n",
    "plt.ylabel('validation loss')\n",
    "plt.xlabel('epoch')\n",
    "plt.show()"
   ]
  }
 ],
 "metadata": {
  "kernelspec": {
   "display_name": "Python 3",
   "language": "python",
   "name": "python3"
  },
  "language_info": {
   "codemirror_mode": {
    "name": "ipython",
    "version": 3
   },
   "file_extension": ".py",
   "mimetype": "text/x-python",
   "name": "python",
   "nbconvert_exporter": "python",
   "pygments_lexer": "ipython3",
   "version": "3.8.5"
  }
 },
 "nbformat": 4,
 "nbformat_minor": 2
}
